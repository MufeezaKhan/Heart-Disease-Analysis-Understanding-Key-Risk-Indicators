{
 "cells": [
  {
   "cell_type": "markdown",
   "id": "d2d9bdc2",
   "metadata": {},
   "source": [
    "# Project: Heart Disease Analysis: Understanding Key Risk Indicators"
   ]
  },
  {
   "cell_type": "markdown",
   "id": "64d69a6f",
   "metadata": {},
   "source": [
    "## Problem Statement:\n",
    "Heart disease is one of the leading causes of death worldwide. Identifying risk factors\n",
    "and understanding their impact can help develop strategies for early detection and\n",
    "prevention. This project aims to analyze a dataset of heart disease patients to explore\n",
    "patterns and correlations among key health indicators, such as cholesterol levels, blood\n",
    "pressure, and age, to determine their relationship with heart disease.\n",
    "\n",
    "Dataset source:https://www.kaggle.com/datasets/redwankarimsony/heart-disease-data"
   ]
  },
  {
   "cell_type": "code",
   "execution_count": null,
   "id": "49dc0388",
   "metadata": {},
   "outputs": [],
   "source": [
    "# Column Descriptions\n",
    "\n",
    "# id (Unique id for each patient)\n",
    "# age (Age of the patient in years)\n",
    "# origin (place of study)\n",
    "# sex (Male/Female)\n",
    "# cp chest pain type ([typical angina, atypical angina, non-anginal, asymptomatic])\n",
    "# trestbps resting blood pressure (resting blood pressure (in mm Hg on admission to the hospital))\n",
    "# chol (serum cholesterol in mg/dl)\n",
    "# fbs (if fasting blood sugar > 120 mg/dl)\n",
    "# restecg (resting electrocardiographic results)\n",
    "# -- Values: [normal, stt abnormality, lv hypertrophy]\n",
    "# thalach: maximum heart rate achieved\n",
    "# exang: exercise-induced angina (True/ False)\n",
    "# oldpeak: ST depression induced by exercise relative to rest\n",
    "# slope: the slope of the peak exercise ST segment\n",
    "# ca: number of major vessels (0-3) colored by fluoroscopy\n",
    "# thal: [normal; fixed defect; reversible defect]\n",
    "# num: the predicted attribute (target variable)"
   ]
  },
  {
   "cell_type": "code",
   "execution_count": 18,
   "id": "e092eaf1",
   "metadata": {},
   "outputs": [],
   "source": [
    "# Import libraries\n",
    "import pandas as pd\n",
    "import matplotlib.pyplot as plt\n",
    "import seaborn as sns"
   ]
  },
  {
   "cell_type": "code",
   "execution_count": 19,
   "id": "c29a74e7",
   "metadata": {},
   "outputs": [],
   "source": [
    "df = pd.read_csv(\"heart_disease_uci.csv\")"
   ]
  },
  {
   "cell_type": "code",
   "execution_count": 20,
   "id": "99d44ece",
   "metadata": {},
   "outputs": [
    {
     "data": {
      "text/html": [
       "<div>\n",
       "<style scoped>\n",
       "    .dataframe tbody tr th:only-of-type {\n",
       "        vertical-align: middle;\n",
       "    }\n",
       "\n",
       "    .dataframe tbody tr th {\n",
       "        vertical-align: top;\n",
       "    }\n",
       "\n",
       "    .dataframe thead th {\n",
       "        text-align: right;\n",
       "    }\n",
       "</style>\n",
       "<table border=\"1\" class=\"dataframe\">\n",
       "  <thead>\n",
       "    <tr style=\"text-align: right;\">\n",
       "      <th></th>\n",
       "      <th>id</th>\n",
       "      <th>age</th>\n",
       "      <th>sex</th>\n",
       "      <th>dataset</th>\n",
       "      <th>cp</th>\n",
       "      <th>trestbps</th>\n",
       "      <th>chol</th>\n",
       "      <th>fbs</th>\n",
       "      <th>restecg</th>\n",
       "      <th>thalch</th>\n",
       "      <th>exang</th>\n",
       "      <th>oldpeak</th>\n",
       "      <th>slope</th>\n",
       "      <th>ca</th>\n",
       "      <th>thal</th>\n",
       "      <th>num</th>\n",
       "    </tr>\n",
       "  </thead>\n",
       "  <tbody>\n",
       "    <tr>\n",
       "      <th>0</th>\n",
       "      <td>1</td>\n",
       "      <td>63</td>\n",
       "      <td>Male</td>\n",
       "      <td>Cleveland</td>\n",
       "      <td>typical angina</td>\n",
       "      <td>145.0</td>\n",
       "      <td>233.0</td>\n",
       "      <td>True</td>\n",
       "      <td>lv hypertrophy</td>\n",
       "      <td>150.0</td>\n",
       "      <td>False</td>\n",
       "      <td>2.3</td>\n",
       "      <td>downsloping</td>\n",
       "      <td>0.0</td>\n",
       "      <td>fixed defect</td>\n",
       "      <td>0</td>\n",
       "    </tr>\n",
       "    <tr>\n",
       "      <th>1</th>\n",
       "      <td>2</td>\n",
       "      <td>67</td>\n",
       "      <td>Male</td>\n",
       "      <td>Cleveland</td>\n",
       "      <td>asymptomatic</td>\n",
       "      <td>160.0</td>\n",
       "      <td>286.0</td>\n",
       "      <td>False</td>\n",
       "      <td>lv hypertrophy</td>\n",
       "      <td>108.0</td>\n",
       "      <td>True</td>\n",
       "      <td>1.5</td>\n",
       "      <td>flat</td>\n",
       "      <td>3.0</td>\n",
       "      <td>normal</td>\n",
       "      <td>2</td>\n",
       "    </tr>\n",
       "    <tr>\n",
       "      <th>2</th>\n",
       "      <td>3</td>\n",
       "      <td>67</td>\n",
       "      <td>Male</td>\n",
       "      <td>Cleveland</td>\n",
       "      <td>asymptomatic</td>\n",
       "      <td>120.0</td>\n",
       "      <td>229.0</td>\n",
       "      <td>False</td>\n",
       "      <td>lv hypertrophy</td>\n",
       "      <td>129.0</td>\n",
       "      <td>True</td>\n",
       "      <td>2.6</td>\n",
       "      <td>flat</td>\n",
       "      <td>2.0</td>\n",
       "      <td>reversable defect</td>\n",
       "      <td>1</td>\n",
       "    </tr>\n",
       "    <tr>\n",
       "      <th>3</th>\n",
       "      <td>4</td>\n",
       "      <td>37</td>\n",
       "      <td>Male</td>\n",
       "      <td>Cleveland</td>\n",
       "      <td>non-anginal</td>\n",
       "      <td>130.0</td>\n",
       "      <td>250.0</td>\n",
       "      <td>False</td>\n",
       "      <td>normal</td>\n",
       "      <td>187.0</td>\n",
       "      <td>False</td>\n",
       "      <td>3.5</td>\n",
       "      <td>downsloping</td>\n",
       "      <td>0.0</td>\n",
       "      <td>normal</td>\n",
       "      <td>0</td>\n",
       "    </tr>\n",
       "    <tr>\n",
       "      <th>4</th>\n",
       "      <td>5</td>\n",
       "      <td>41</td>\n",
       "      <td>Female</td>\n",
       "      <td>Cleveland</td>\n",
       "      <td>atypical angina</td>\n",
       "      <td>130.0</td>\n",
       "      <td>204.0</td>\n",
       "      <td>False</td>\n",
       "      <td>lv hypertrophy</td>\n",
       "      <td>172.0</td>\n",
       "      <td>False</td>\n",
       "      <td>1.4</td>\n",
       "      <td>upsloping</td>\n",
       "      <td>0.0</td>\n",
       "      <td>normal</td>\n",
       "      <td>0</td>\n",
       "    </tr>\n",
       "    <tr>\n",
       "      <th>...</th>\n",
       "      <td>...</td>\n",
       "      <td>...</td>\n",
       "      <td>...</td>\n",
       "      <td>...</td>\n",
       "      <td>...</td>\n",
       "      <td>...</td>\n",
       "      <td>...</td>\n",
       "      <td>...</td>\n",
       "      <td>...</td>\n",
       "      <td>...</td>\n",
       "      <td>...</td>\n",
       "      <td>...</td>\n",
       "      <td>...</td>\n",
       "      <td>...</td>\n",
       "      <td>...</td>\n",
       "      <td>...</td>\n",
       "    </tr>\n",
       "    <tr>\n",
       "      <th>915</th>\n",
       "      <td>916</td>\n",
       "      <td>54</td>\n",
       "      <td>Female</td>\n",
       "      <td>VA Long Beach</td>\n",
       "      <td>asymptomatic</td>\n",
       "      <td>127.0</td>\n",
       "      <td>333.0</td>\n",
       "      <td>True</td>\n",
       "      <td>st-t abnormality</td>\n",
       "      <td>154.0</td>\n",
       "      <td>False</td>\n",
       "      <td>0.0</td>\n",
       "      <td>NaN</td>\n",
       "      <td>NaN</td>\n",
       "      <td>NaN</td>\n",
       "      <td>1</td>\n",
       "    </tr>\n",
       "    <tr>\n",
       "      <th>916</th>\n",
       "      <td>917</td>\n",
       "      <td>62</td>\n",
       "      <td>Male</td>\n",
       "      <td>VA Long Beach</td>\n",
       "      <td>typical angina</td>\n",
       "      <td>NaN</td>\n",
       "      <td>139.0</td>\n",
       "      <td>False</td>\n",
       "      <td>st-t abnormality</td>\n",
       "      <td>NaN</td>\n",
       "      <td>NaN</td>\n",
       "      <td>NaN</td>\n",
       "      <td>NaN</td>\n",
       "      <td>NaN</td>\n",
       "      <td>NaN</td>\n",
       "      <td>0</td>\n",
       "    </tr>\n",
       "    <tr>\n",
       "      <th>917</th>\n",
       "      <td>918</td>\n",
       "      <td>55</td>\n",
       "      <td>Male</td>\n",
       "      <td>VA Long Beach</td>\n",
       "      <td>asymptomatic</td>\n",
       "      <td>122.0</td>\n",
       "      <td>223.0</td>\n",
       "      <td>True</td>\n",
       "      <td>st-t abnormality</td>\n",
       "      <td>100.0</td>\n",
       "      <td>False</td>\n",
       "      <td>0.0</td>\n",
       "      <td>NaN</td>\n",
       "      <td>NaN</td>\n",
       "      <td>fixed defect</td>\n",
       "      <td>2</td>\n",
       "    </tr>\n",
       "    <tr>\n",
       "      <th>918</th>\n",
       "      <td>919</td>\n",
       "      <td>58</td>\n",
       "      <td>Male</td>\n",
       "      <td>VA Long Beach</td>\n",
       "      <td>asymptomatic</td>\n",
       "      <td>NaN</td>\n",
       "      <td>385.0</td>\n",
       "      <td>True</td>\n",
       "      <td>lv hypertrophy</td>\n",
       "      <td>NaN</td>\n",
       "      <td>NaN</td>\n",
       "      <td>NaN</td>\n",
       "      <td>NaN</td>\n",
       "      <td>NaN</td>\n",
       "      <td>NaN</td>\n",
       "      <td>0</td>\n",
       "    </tr>\n",
       "    <tr>\n",
       "      <th>919</th>\n",
       "      <td>920</td>\n",
       "      <td>62</td>\n",
       "      <td>Male</td>\n",
       "      <td>VA Long Beach</td>\n",
       "      <td>atypical angina</td>\n",
       "      <td>120.0</td>\n",
       "      <td>254.0</td>\n",
       "      <td>False</td>\n",
       "      <td>lv hypertrophy</td>\n",
       "      <td>93.0</td>\n",
       "      <td>True</td>\n",
       "      <td>0.0</td>\n",
       "      <td>NaN</td>\n",
       "      <td>NaN</td>\n",
       "      <td>NaN</td>\n",
       "      <td>1</td>\n",
       "    </tr>\n",
       "  </tbody>\n",
       "</table>\n",
       "<p>920 rows × 16 columns</p>\n",
       "</div>"
      ],
      "text/plain": [
       "      id  age     sex        dataset               cp  trestbps   chol    fbs  \\\n",
       "0      1   63    Male      Cleveland   typical angina     145.0  233.0   True   \n",
       "1      2   67    Male      Cleveland     asymptomatic     160.0  286.0  False   \n",
       "2      3   67    Male      Cleveland     asymptomatic     120.0  229.0  False   \n",
       "3      4   37    Male      Cleveland      non-anginal     130.0  250.0  False   \n",
       "4      5   41  Female      Cleveland  atypical angina     130.0  204.0  False   \n",
       "..   ...  ...     ...            ...              ...       ...    ...    ...   \n",
       "915  916   54  Female  VA Long Beach     asymptomatic     127.0  333.0   True   \n",
       "916  917   62    Male  VA Long Beach   typical angina       NaN  139.0  False   \n",
       "917  918   55    Male  VA Long Beach     asymptomatic     122.0  223.0   True   \n",
       "918  919   58    Male  VA Long Beach     asymptomatic       NaN  385.0   True   \n",
       "919  920   62    Male  VA Long Beach  atypical angina     120.0  254.0  False   \n",
       "\n",
       "              restecg  thalch  exang  oldpeak        slope   ca  \\\n",
       "0      lv hypertrophy   150.0  False      2.3  downsloping  0.0   \n",
       "1      lv hypertrophy   108.0   True      1.5         flat  3.0   \n",
       "2      lv hypertrophy   129.0   True      2.6         flat  2.0   \n",
       "3              normal   187.0  False      3.5  downsloping  0.0   \n",
       "4      lv hypertrophy   172.0  False      1.4    upsloping  0.0   \n",
       "..                ...     ...    ...      ...          ...  ...   \n",
       "915  st-t abnormality   154.0  False      0.0          NaN  NaN   \n",
       "916  st-t abnormality     NaN    NaN      NaN          NaN  NaN   \n",
       "917  st-t abnormality   100.0  False      0.0          NaN  NaN   \n",
       "918    lv hypertrophy     NaN    NaN      NaN          NaN  NaN   \n",
       "919    lv hypertrophy    93.0   True      0.0          NaN  NaN   \n",
       "\n",
       "                  thal  num  \n",
       "0         fixed defect    0  \n",
       "1               normal    2  \n",
       "2    reversable defect    1  \n",
       "3               normal    0  \n",
       "4               normal    0  \n",
       "..                 ...  ...  \n",
       "915                NaN    1  \n",
       "916                NaN    0  \n",
       "917       fixed defect    2  \n",
       "918                NaN    0  \n",
       "919                NaN    1  \n",
       "\n",
       "[920 rows x 16 columns]"
      ]
     },
     "execution_count": 20,
     "metadata": {},
     "output_type": "execute_result"
    }
   ],
   "source": [
    "df"
   ]
  },
  {
   "cell_type": "code",
   "execution_count": 21,
   "id": "f13c2e7c",
   "metadata": {},
   "outputs": [
    {
     "data": {
      "text/plain": [
       "(920, 16)"
      ]
     },
     "execution_count": 21,
     "metadata": {},
     "output_type": "execute_result"
    }
   ],
   "source": [
    "# To find the number of rows and columns of dataset\n",
    "df.shape"
   ]
  },
  {
   "cell_type": "code",
   "execution_count": 22,
   "id": "f46c86fc",
   "metadata": {},
   "outputs": [
    {
     "name": "stdout",
     "output_type": "stream",
     "text": [
      "<class 'pandas.core.frame.DataFrame'>\n",
      "RangeIndex: 920 entries, 0 to 919\n",
      "Data columns (total 16 columns):\n",
      " #   Column    Non-Null Count  Dtype  \n",
      "---  ------    --------------  -----  \n",
      " 0   id        920 non-null    int64  \n",
      " 1   age       920 non-null    int64  \n",
      " 2   sex       920 non-null    object \n",
      " 3   dataset   920 non-null    object \n",
      " 4   cp        920 non-null    object \n",
      " 5   trestbps  861 non-null    float64\n",
      " 6   chol      890 non-null    float64\n",
      " 7   fbs       830 non-null    object \n",
      " 8   restecg   918 non-null    object \n",
      " 9   thalch    865 non-null    float64\n",
      " 10  exang     865 non-null    object \n",
      " 11  oldpeak   858 non-null    float64\n",
      " 12  slope     611 non-null    object \n",
      " 13  ca        309 non-null    float64\n",
      " 14  thal      434 non-null    object \n",
      " 15  num       920 non-null    int64  \n",
      "dtypes: float64(5), int64(3), object(8)\n",
      "memory usage: 115.1+ KB\n"
     ]
    }
   ],
   "source": [
    "# To find the column names and their datatypes\n",
    "df.info()"
   ]
  },
  {
   "cell_type": "code",
   "execution_count": 23,
   "id": "a2b25a0c",
   "metadata": {},
   "outputs": [
    {
     "name": "stdout",
     "output_type": "stream",
     "text": [
      "          Missing Values  Percentage\n",
      "ca                   611   66.413043\n",
      "thal                 486   52.826087\n",
      "slope                309   33.586957\n",
      "fbs                   90    9.782609\n",
      "oldpeak               62    6.739130\n",
      "trestbps              59    6.413043\n",
      "thalch                55    5.978261\n",
      "exang                 55    5.978261\n",
      "chol                  30    3.260870\n",
      "restecg                2    0.217391\n",
      "id                     0    0.000000\n",
      "age                    0    0.000000\n",
      "sex                    0    0.000000\n",
      "dataset                0    0.000000\n",
      "cp                     0    0.000000\n",
      "num                    0    0.000000\n"
     ]
    }
   ],
   "source": [
    "# Calculate the total number of missing values in each column\n",
    "missing_values = df.isnull().sum()\n",
    "\n",
    "# Calculate the percentage of missing values in each column\n",
    "missing_percentage = (missing_values / len(df)) * 100\n",
    "\n",
    "# Combine into a DataFrame for easier reading\n",
    "missing_summary = pd.DataFrame({\n",
    "    'Missing Values': missing_values,\n",
    "    'Percentage': missing_percentage\n",
    "})\n",
    "\n",
    "# Sort by percentage of missing values (descending order)\n",
    "missing_summary = missing_summary.sort_values(by='Percentage', ascending=False)\n",
    "\n",
    "print(missing_summary)"
   ]
  },
  {
   "cell_type": "code",
   "execution_count": 24,
   "id": "224c398e",
   "metadata": {},
   "outputs": [
    {
     "name": "stdout",
     "output_type": "stream",
     "text": [
      "id          0\n",
      "age         0\n",
      "sex         0\n",
      "dataset     0\n",
      "cp          0\n",
      "trestbps    0\n",
      "chol        0\n",
      "fbs         0\n",
      "restecg     0\n",
      "thalch      0\n",
      "exang       0\n",
      "oldpeak     0\n",
      "slope       0\n",
      "num         0\n",
      "dtype: int64\n"
     ]
    }
   ],
   "source": [
    "# Drop columns with >50% missing values\n",
    "columns_to_drop = ['ca', 'thal']\n",
    "df = df.drop(columns=columns_to_drop)\n",
    "\n",
    "# Impute columns with moderate or low missing percentages\n",
    "from sklearn.impute import SimpleImputer\n",
    "\n",
    "# Define imputers\n",
    "median_imputer = SimpleImputer(strategy='median')  # For numerical columns\n",
    "mode_imputer = SimpleImputer(strategy='most_frequent')  # For categorical columns\n",
    "\n",
    "# Impute numerical columns\n",
    "numerical_columns = ['oldpeak', 'trestbps', 'thalch', 'chol']\n",
    "df[numerical_columns] = median_imputer.fit_transform(df[numerical_columns])\n",
    "\n",
    "# Impute categorical columns\n",
    "categorical_columns = ['slope', 'fbs', 'exang', 'restecg']\n",
    "df[categorical_columns] = mode_imputer.fit_transform(df[categorical_columns])\n",
    "\n",
    "# Check if all missing values are handled\n",
    "print(df.isnull().sum())"
   ]
  },
  {
   "cell_type": "code",
   "execution_count": 25,
   "id": "8943006d",
   "metadata": {},
   "outputs": [
    {
     "name": "stdout",
     "output_type": "stream",
     "text": [
      "Distribution of Target Variable (Heart Disease):\n",
      "0    411\n",
      "1    265\n",
      "2    109\n",
      "3    107\n",
      "4     28\n",
      "Name: num, dtype: int64\n",
      "\n",
      "Percentage Distribution:\n",
      "0    44.673913\n",
      "1    28.804348\n",
      "2    11.847826\n",
      "3    11.630435\n",
      "4     3.043478\n",
      "Name: num, dtype: float64\n"
     ]
    }
   ],
   "source": [
    "# Target variable analysis\n",
    "\n",
    "# Check the distribution of the target variable\n",
    "target_distribution = df['num'].value_counts()\n",
    "\n",
    "# Calculate percentages\n",
    "target_percentage = df['num'].value_counts(normalize=True) * 100\n",
    "\n",
    "# Display the results\n",
    "print(\"Distribution of Target Variable (Heart Disease):\")\n",
    "print(target_distribution)\n",
    "\n",
    "print(\"\\nPercentage Distribution:\")\n",
    "print(target_percentage)"
   ]
  },
  {
   "cell_type": "code",
   "execution_count": 26,
   "id": "8306bca1",
   "metadata": {},
   "outputs": [],
   "source": [
    "# Observations from data:\n",
    "# 0 (No heart disease): 411 instances (44.67% of the data).\n",
    "# 1 (Mild heart disease): 265 instances (28.80% of the data).\n",
    "# 2 (Moderate heart disease): 109 instances (11.85% of the data).\n",
    "# 3 (Severe heart disease): 107 instances (11.63% of the data).\n",
    "# 4 (Critical heart disease): 28 instances (3.04% of the data)."
   ]
  },
  {
   "cell_type": "code",
   "execution_count": 27,
   "id": "d71dcc3e",
   "metadata": {},
   "outputs": [
    {
     "data": {
      "text/plain": [
       "1    509\n",
       "0    411\n",
       "Name: target, dtype: int64"
      ]
     },
     "execution_count": 27,
     "metadata": {},
     "output_type": "execute_result"
    }
   ],
   "source": [
    "# Binary classification\n",
    "df['target'] = df['num'].apply(lambda x: 0 if x == 0 else 1)\n",
    "\n",
    "# Check the distribution of the target variable\n",
    "df['target'].value_counts()"
   ]
  },
  {
   "cell_type": "code",
   "execution_count": 28,
   "id": "847b1793",
   "metadata": {},
   "outputs": [],
   "source": [
    "# 0 : No heart disease\n",
    "# 1 : Mild heart disease"
   ]
  },
  {
   "cell_type": "code",
   "execution_count": 30,
   "id": "20f66140",
   "metadata": {},
   "outputs": [
    {
     "data": {
      "image/png": "[encoded data removed]",
      "text/plain": [
       "<Figure size 640x480 with 1 Axes>"
      ]
     },
     "metadata": {},
     "output_type": "display_data"
    }
   ],
   "source": [
    "# Visualization of dataset distribution\n",
    "\n",
    "counts = df['target'].value_counts().sort_index()\n",
    "plt.bar(0, counts[0], color='purple', label='Absence of Heart Disease')\n",
    "plt.bar(1, counts[1], color='orange', label='Presence of Heart Disease')\n",
    "plt.title(\"Distribution of Dataset\")\n",
    "plt.xlabel(\"Heart Disease Patient or Not\")\n",
    "plt.ylabel(\"Count\")\n",
    "plt.legend(loc=\"upper left\")\n",
    "plt.show()"
   ]
  },
  {
   "cell_type": "code",
   "execution_count": 31,
   "id": "52698685",
   "metadata": {},
   "outputs": [
    {
     "name": "stdout",
     "output_type": "stream",
     "text": [
      "The age range of patients is 28 to 77.\n",
      "The count of male and female patients is:\n",
      " Male      726\n",
      "Female    194\n",
      "Name: sex, dtype: int64\n"
     ]
    }
   ],
   "source": [
    "# Demographic Insights\n",
    "\n",
    "# Finding age range of patients in the dataset\n",
    "min_age = df['age'].min()\n",
    "max_age = df['age'].max()\n",
    "print(f\"The age range of patients is {min_age} to {max_age}.\")\n",
    "\n",
    "# Finding gender distribution\n",
    "gender_dist = df[\"sex\"].value_counts()\n",
    "\n",
    "print (\"The count of male and female patients is:\\n\", gender_dist)"
   ]
  },
  {
   "cell_type": "code",
   "execution_count": 32,
   "id": "6321f076",
   "metadata": {},
   "outputs": [
    {
     "data": {
      "text/html": [
       "<div>\n",
       "<style scoped>\n",
       "    .dataframe tbody tr th:only-of-type {\n",
       "        vertical-align: middle;\n",
       "    }\n",
       "\n",
       "    .dataframe tbody tr th {\n",
       "        vertical-align: top;\n",
       "    }\n",
       "\n",
       "    .dataframe thead th {\n",
       "        text-align: right;\n",
       "    }\n",
       "</style>\n",
       "<table border=\"1\" class=\"dataframe\">\n",
       "  <thead>\n",
       "    <tr style=\"text-align: right;\">\n",
       "      <th></th>\n",
       "      <th>Feature</th>\n",
       "      <th>Mean</th>\n",
       "      <th>Median</th>\n",
       "    </tr>\n",
       "  </thead>\n",
       "  <tbody>\n",
       "    <tr>\n",
       "      <th>0</th>\n",
       "      <td>Resting Blood Pressure (trestbps)</td>\n",
       "      <td>131.995652</td>\n",
       "      <td>130.0</td>\n",
       "    </tr>\n",
       "    <tr>\n",
       "      <th>1</th>\n",
       "      <td>Serum Cholesterol (chol)</td>\n",
       "      <td>199.908696</td>\n",
       "      <td>223.0</td>\n",
       "    </tr>\n",
       "    <tr>\n",
       "      <th>2</th>\n",
       "      <td>Maximum Heart Rate (thalch)</td>\n",
       "      <td>137.692391</td>\n",
       "      <td>140.0</td>\n",
       "    </tr>\n",
       "  </tbody>\n",
       "</table>\n",
       "</div>"
      ],
      "text/plain": [
       "                             Feature        Mean  Median\n",
       "0  Resting Blood Pressure (trestbps)  131.995652   130.0\n",
       "1           Serum Cholesterol (chol)  199.908696   223.0\n",
       "2        Maximum Heart Rate (thalch)  137.692391   140.0"
      ]
     },
     "execution_count": 32,
     "metadata": {},
     "output_type": "execute_result"
    }
   ],
   "source": [
    "# Health Metrics\n",
    "stats = {\n",
    "    \"Feature\": [\"Resting Blood Pressure (trestbps)\", \"Serum Cholesterol (chol)\", \"Maximum Heart Rate (thalch)\"],\n",
    "    \"Mean\": [df['trestbps'].mean(), df['chol'].mean(), df['thalch'].mean()],\n",
    "    \"Median\": [df['trestbps'].median(), df['chol'].median(), df['thalch'].median()]\n",
    "}\n",
    "\n",
    "stats_df = pd.DataFrame(stats)\n",
    "stats_df"
   ]
  },
  {
   "cell_type": "code",
   "execution_count": 33,
   "id": "82a49bf8",
   "metadata": {},
   "outputs": [
    {
     "name": "stdout",
     "output_type": "stream",
     "text": [
      "Count of Patients with Exercise-Induced Angina: 337\n",
      "\n",
      "Count of Different Chest Pain Types:\n",
      "asymptomatic       496\n",
      "non-anginal        204\n",
      "atypical angina    174\n",
      "typical angina      46\n",
      "Name: cp, dtype: int64\n"
     ]
    }
   ],
   "source": [
    "# Categorical Features\n",
    "print(\"Count of Patients with Exercise-Induced Angina:\", df['exang'].sum())\n",
    "\n",
    "# Count of different chest pain types\n",
    "cp_counts = df['cp'].value_counts()\n",
    "print(\"\\nCount of Different Chest Pain Types:\")\n",
    "print(cp_counts)"
   ]
  },
  {
   "cell_type": "code",
   "execution_count": 34,
   "id": "8b92a400",
   "metadata": {},
   "outputs": [
    {
     "data": {
      "image/png": "[encoded data removed]",
      "text/plain": [
       "<Figure size 800x500 with 1 Axes>"
      ]
     },
     "metadata": {},
     "output_type": "display_data"
    }
   ],
   "source": [
    "# Plot histogram for age distribution\n",
    "plt.figure(figsize=(8,5))\n",
    "sns.histplot(df['age'], bins=15, color='skyblue')\n",
    "plt.title(\"Age Distribution of Patients\")\n",
    "plt.xlabel(\"Age\")\n",
    "plt.ylabel(\"Count\")\n",
    "plt.show()"
   ]
  },
  {
   "cell_type": "code",
   "execution_count": 35,
   "id": "27839bfb",
   "metadata": {},
   "outputs": [
    {
     "data": {
      "image/png": "[encoded data removed]",
      "text/plain": [
       "<Figure size 600x500 with 1 Axes>"
      ]
     },
     "metadata": {},
     "output_type": "display_data"
    }
   ],
   "source": [
    "# Group by heart disease presence (num > 0 means heart disease is present)\n",
    "cholesterol_means = df.groupby(df['target'])['chol'].mean()\n",
    "\n",
    "# Bar plot for average cholesterol levels\n",
    "plt.figure(figsize=(6,5))\n",
    "cholesterol_means.plot(kind='bar', color=['blue', 'red'])\n",
    "plt.xticks(ticks=[0, 1], labels=['No Heart Disease', 'Heart Disease'], rotation=0)\n",
    "plt.ylabel(\"Average Cholesterol Level\")\n",
    "plt.title(\"Comparison of Average Cholesterol Levels\")\n",
    "plt.show()"
   ]
  },
  {
   "cell_type": "code",
   "execution_count": 36,
   "id": "cd99cc6b",
   "metadata": {},
   "outputs": [
    {
     "data": {
      "image/png": "[encoded data removed]",
      "text/plain": [
       "<Figure size 1200x500 with 2 Axes>"
      ]
     },
     "metadata": {},
     "output_type": "display_data"
    }
   ],
   "source": [
    "# Box plot to identify outliers\n",
    "plt.figure(figsize=(12,5))\n",
    "\n",
    "# Boxplot for cholesterol (chol)\n",
    "plt.subplot(1,2,1)\n",
    "sns.boxplot(y=df['chol'], color='skyblue')\n",
    "plt.title(\"Boxplot of Cholesterol (chol)\")\n",
    "\n",
    "# Boxplot for resting blood pressure (trestbps)\n",
    "plt.subplot(1,2,2)\n",
    "sns.boxplot(y=df['trestbps'], color='lightcoral')\n",
    "plt.title(\"Boxplot of Resting Blood Pressure (trestbps)\")\n",
    "\n",
    "plt.show()"
   ]
  },
  {
   "cell_type": "code",
   "execution_count": null,
   "id": "54f0f454",
   "metadata": {},
   "outputs": [],
   "source": []
  }
 ],
 "metadata": {
  "kernelspec": {
   "display_name": "Python 3 (ipykernel)",
   "language": "python",
   "name": "python3"
  },
  "language_info": {
   "codemirror_mode": {
    "name": "ipython",
    "version": 3
   },
   "file_extension": ".py",
   "mimetype": "text/x-python",
   "name": "python",
   "nbconvert_exporter": "python",
   "pygments_lexer": "ipython3",
   "version": "3.11.4"
  }
 },
 "nbformat": 4,
 "nbformat_minor": 5
}
